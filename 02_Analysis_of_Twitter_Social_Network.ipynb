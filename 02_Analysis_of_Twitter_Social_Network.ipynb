{
 "cells": [
  {
   "cell_type": "markdown",
   "metadata": {},
   "source": [
    "# Analysis of a Twitter Social Network\n",
    "\n",
    "In this section we are going to parse the tweets we collected and build the social network of interactions between Twitter users. We will also see how to analyze the network using NetworkX.\n",
    "\n",
    "## Parsing tweets\n",
    "\n",
    "Tweets are saved in JSON format ([JavaScript Object Notation](https://www.w3schools.com/js/js_json_intro.asp))\n",
    "JSON is text, written with JavaScript object notation.\n",
    "\n",
    "The `json` python module allows to easily import json file into python [Dictonairies](https://docs.python.org/3/tutorial/datastructures.html#dictionaries)\n",
    "\n"
   ]
  },
  {
   "cell_type": "code",
   "execution_count": 1,
   "metadata": {
    "collapsed": true
   },
   "outputs": [],
   "source": [
    "#load tweets \n",
    "\n",
    "import json\n",
    "\n",
    "filename = 'AI2.txt'\n",
    "\n",
    "tweet_list = []\n",
    "\n",
    "with open(filename, 'r') as fopen:\n",
    "    # each line correspond to a tweet\n",
    "    for line in fopen:\n",
    "        if line != '\\n':\n",
    "            tweet_list.append(json.loads(line))\n",
    "        "
   ]
  },
  {
   "cell_type": "markdown",
   "metadata": {},
   "source": [
    "Let's look at the informations contained in a tweet"
   ]
  },
  {
   "cell_type": "code",
   "execution_count": 2,
   "metadata": {
    "collapsed": true
   },
   "outputs": [],
   "source": [
    "# take the first tweet of the list\n",
    "tweet = tweet_list[2]"
   ]
  },
  {
   "cell_type": "code",
   "execution_count": 3,
   "metadata": {},
   "outputs": [
    {
     "data": {
      "text/plain": [
       "dict"
      ]
     },
     "execution_count": 3,
     "metadata": {},
     "output_type": "execute_result"
    }
   ],
   "source": [
    "# each tweet is a python dictionary\n",
    "type(tweet)"
   ]
  },
  {
   "cell_type": "code",
   "execution_count": 4,
   "metadata": {},
   "outputs": [
    {
     "data": {
      "text/plain": [
       "dict_keys(['created_at', 'id', 'id_str', 'text', 'display_text_range', 'source', 'truncated', 'in_reply_to_status_id', 'in_reply_to_status_id_str', 'in_reply_to_user_id', 'in_reply_to_user_id_str', 'in_reply_to_screen_name', 'user', 'geo', 'coordinates', 'place', 'contributors', 'quoted_status_id', 'quoted_status_id_str', 'quoted_status', 'is_quote_status', 'retweet_count', 'favorite_count', 'entities', 'favorited', 'retweeted', 'possibly_sensitive', 'filter_level', 'lang', 'timestamp_ms'])"
      ]
     },
     "execution_count": 4,
     "metadata": {},
     "output_type": "execute_result"
    }
   ],
   "source": [
    "# all the 'entries' of the dictionary\n",
    "tweet.keys()"
   ]
  },
  {
   "cell_type": "markdown",
   "metadata": {},
   "source": [
    "you can find a description of the fields in the Twitter API documentation: https://dev.twitter.com/overview/api/tweets"
   ]
  },
  {
   "cell_type": "code",
   "execution_count": 5,
   "metadata": {},
   "outputs": [
    {
     "data": {
      "text/plain": [
       "'Thu May 04 19:38:42 +0000 2017'"
      ]
     },
     "execution_count": 5,
     "metadata": {},
     "output_type": "execute_result"
    }
   ],
   "source": [
    "#creation time\n",
    "tweet['created_at']"
   ]
  },
  {
   "cell_type": "code",
   "execution_count": 6,
   "metadata": {},
   "outputs": [
    {
     "name": "stdout",
     "output_type": "stream",
     "text": [
      "Trou* https://t.co/FlQdwMFbmh\n"
     ]
    }
   ],
   "source": [
    "# text of the tweet\n",
    "print(tweet['text'])"
   ]
  },
  {
   "cell_type": "code",
   "execution_count": 7,
   "metadata": {},
   "outputs": [
    {
     "data": {
      "text/plain": [
       "{'contributors_enabled': False,\n",
       " 'created_at': 'Wed Mar 04 18:25:07 +0000 2015',\n",
       " 'default_profile': True,\n",
       " 'default_profile_image': False,\n",
       " 'description': None,\n",
       " 'favourites_count': 1689,\n",
       " 'follow_request_sent': None,\n",
       " 'followers_count': 177,\n",
       " 'following': None,\n",
       " 'friends_count': 82,\n",
       " 'geo_enabled': True,\n",
       " 'id': 3070524046,\n",
       " 'id_str': '3070524046',\n",
       " 'is_translator': False,\n",
       " 'lang': 'fr',\n",
       " 'listed_count': 0,\n",
       " 'location': 'Soissons, France',\n",
       " 'name': 'Emi ⚛️',\n",
       " 'notifications': None,\n",
       " 'profile_background_color': 'C0DEED',\n",
       " 'profile_background_image_url': 'http://abs.twimg.com/images/themes/theme1/bg.png',\n",
       " 'profile_background_image_url_https': 'https://abs.twimg.com/images/themes/theme1/bg.png',\n",
       " 'profile_background_tile': False,\n",
       " 'profile_banner_url': 'https://pbs.twimg.com/profile_banners/3070524046/1492117856',\n",
       " 'profile_image_url': 'http://pbs.twimg.com/profile_images/854034787731988481/BIrwBVvf_normal.jpg',\n",
       " 'profile_image_url_https': 'https://pbs.twimg.com/profile_images/854034787731988481/BIrwBVvf_normal.jpg',\n",
       " 'profile_link_color': '1DA1F2',\n",
       " 'profile_sidebar_border_color': 'C0DEED',\n",
       " 'profile_sidebar_fill_color': 'DDEEF6',\n",
       " 'profile_text_color': '333333',\n",
       " 'profile_use_background_image': True,\n",
       " 'protected': False,\n",
       " 'screen_name': 'x_xmilix_x',\n",
       " 'statuses_count': 10695,\n",
       " 'time_zone': None,\n",
       " 'url': None,\n",
       " 'utc_offset': None,\n",
       " 'verified': False}"
      ]
     },
     "execution_count": 7,
     "metadata": {},
     "output_type": "execute_result"
    }
   ],
   "source": [
    "# user info\n",
    "tweet['user']"
   ]
  },
  {
   "cell_type": "code",
   "execution_count": 8,
   "metadata": {},
   "outputs": [
    {
     "name": "stdout",
     "output_type": "stream",
     "text": [
      "<class 'dict'>\n"
     ]
    },
    {
     "data": {
      "text/plain": [
       "'Emi ⚛️'"
      ]
     },
     "execution_count": 8,
     "metadata": {},
     "output_type": "execute_result"
    }
   ],
   "source": [
    "# user is itslef a dict\n",
    "print(type(tweet['user']))\n",
    "\n",
    "tweet['user']['name']"
   ]
  },
  {
   "cell_type": "code",
   "execution_count": 9,
   "metadata": {},
   "outputs": [
    {
     "data": {
      "text/plain": [
       "3070524046"
      ]
     },
     "execution_count": 9,
     "metadata": {},
     "output_type": "execute_result"
    }
   ],
   "source": [
    "# unique id of the user\n",
    "tweet['user']['id']"
   ]
  },
  {
   "cell_type": "code",
   "execution_count": 10,
   "metadata": {},
   "outputs": [
    {
     "data": {
      "text/plain": [
       "False"
      ]
     },
     "execution_count": 10,
     "metadata": {},
     "output_type": "execute_result"
    }
   ],
   "source": [
    "#is the tweet a retweet?\n",
    "'retweeted_status' in tweet"
   ]
  },
  {
   "cell_type": "code",
   "execution_count": 11,
   "metadata": {
    "collapsed": true
   },
   "outputs": [],
   "source": [
    "if 'retweeted_status' in tweet:\n",
    "    print(tweet['retweeted_status'])\n",
    "# the `retweeted_status` is also a tweet dictionary    "
   ]
  },
  {
   "cell_type": "code",
   "execution_count": 12,
   "metadata": {
    "collapsed": true
   },
   "outputs": [],
   "source": [
    "# user id and name of the retweeted user?\n",
    "if 'retweeted_status' in tweet:\n",
    "    print(tweet['retweeted_status']['user']['id'])\n",
    "    print(tweet['retweeted_status']['user']['name'])"
   ]
  },
  {
   "cell_type": "code",
   "execution_count": 13,
   "metadata": {},
   "outputs": [
    {
     "data": {
      "text/plain": [
       "False"
      ]
     },
     "execution_count": 13,
     "metadata": {},
     "output_type": "execute_result"
    }
   ],
   "source": [
    "# is the tweet a reply?\n",
    "'in_reply_to_user_id' in tweet and tweet['in_reply_to_user_id'] is not None"
   ]
  },
  {
   "cell_type": "code",
   "execution_count": 14,
   "metadata": {},
   "outputs": [
    {
     "data": {
      "text/plain": [
       "{'hashtags': [],\n",
       " 'symbols': [],\n",
       " 'urls': [{'display_url': 'twitter.com/x_xmilix_x/sta…',\n",
       "   'expanded_url': 'https://twitter.com/x_xmilix_x/status/860208954428850178',\n",
       "   'indices': [6, 29],\n",
       "   'url': 'https://t.co/FlQdwMFbmh'}],\n",
       " 'user_mentions': []}"
      ]
     },
     "execution_count": 14,
     "metadata": {},
     "output_type": "execute_result"
    }
   ],
   "source": [
    "# 'entities' contains the hashtags, urls and usernames used in the tweet\n",
    "tweet['entities']"
   ]
  },
  {
   "cell_type": "code",
   "execution_count": 15,
   "metadata": {
    "collapsed": true
   },
   "outputs": [],
   "source": [
    "# user id of the mentioned users\n",
    "for  mention in tweet['entities']['user_mentions']:\n",
    "    print(mention['id'])"
   ]
  },
  {
   "cell_type": "code",
   "execution_count": 16,
   "metadata": {},
   "outputs": [
    {
     "data": {
      "text/plain": [
       "True"
      ]
     },
     "execution_count": 16,
     "metadata": {},
     "output_type": "execute_result"
    }
   ],
   "source": [
    "# is the tweet a quote?\n",
    "'quoted_status' in tweet"
   ]
  },
  {
   "cell_type": "markdown",
   "metadata": {},
   "source": [
    "# Building the network of interactions\n",
    "\n",
    "We will use the python module [`NetworkX`](https://networkx.readthedocs.io/en/stable/index.html) to construct and analyze the social network.\n",
    "\n",
    "A short introduction to networkx: https://github.com/networkx/notebooks\n"
   ]
  },
  {
   "cell_type": "markdown",
   "metadata": {},
   "source": [
    "There are four types of interactions between two users in Twitter:\n",
    "- Retweet\n",
    "- Quote\n",
    "- Reply\n",
    "- Mention"
   ]
  },
  {
   "cell_type": "code",
   "execution_count": 17,
   "metadata": {
    "collapsed": true
   },
   "outputs": [],
   "source": [
    "# let's define some functions to extract the interactions from tweets\n",
    "\n",
    "def getTweetID(tweet):\n",
    "    \"\"\" If properly included, get the ID of the tweet \"\"\"\n",
    "    return tweet.get('id')\n",
    "    \n",
    "def getUserIDandScreenName(tweet):\n",
    "    \"\"\" If properly included, get the tweet \n",
    "        user ID and Screen Name \"\"\"\n",
    "    user = tweet.get('user')\n",
    "    if user is not None:\n",
    "        uid = user.get('id')\n",
    "        screen_name = user.get('screen_name')\n",
    "        return uid, screen_name\n",
    "    else:\n",
    "        return (None, None)\n",
    "\n",
    "def getRetweetedUserIDandSreenName(tweet):\n",
    "    \"\"\" If properly included, get the retweet \n",
    "        source user ID and Screen Name\"\"\"\n",
    "    \n",
    "    retweet = tweet.get('retweeted_status')\n",
    "    if retweet is not None:\n",
    "        return getUserIDandScreenName(retweet)\n",
    "    else:\n",
    "        return (None, None)\n",
    "    \n",
    "def getRepliedUserIDandScreenName(tweet):\n",
    "    \"\"\" If properly included, get the ID and Screen Name \n",
    "        of the user the tweet replies to \"\"\"\n",
    "    \n",
    "    reply_id = tweet.get('in_reply_to_user_id')\n",
    "    reply_screenname = tweet.get('in_reply_to_screen_name')\n",
    "    return reply_id, reply_screenname\n",
    "    \n",
    "def getUserMentionsIDandScreenName(tweet):\n",
    "    \"\"\" If properly included, return a list of IDs and Screen Names tuple\n",
    "        of all user mentions, including retweeted and replied users \"\"\"\n",
    "        \n",
    "    mentions = []\n",
    "    entities = tweet.get('entities')\n",
    "    if entities is not None:\n",
    "        user_mentions = entities.get('user_mentions')\n",
    "        for mention in user_mentions:\n",
    "            mention_id = mention.get('id')\n",
    "            screen_name = mention.get('screen_name')\n",
    "            mentions.append((mention_id, screen_name))\n",
    "    \n",
    "    return mentions\n",
    "\n",
    "    \n",
    "def getQuotedUserIDandScreenName(tweet):\n",
    "    \"\"\" If properly included, get the ID of the user the tweet is quoting\"\"\"\n",
    "    \n",
    "    quoted_status = tweet.get('quoted_status')\n",
    "    \n",
    "    if quoted_status is not None:\n",
    "        return getUserIDandScreenName(quoted_status)\n",
    "    else:\n",
    "        return (None, None)\n",
    "    \n",
    "def getAllInteractions(tweet):\n",
    "    \"\"\" Get all the interactions from this tweet\n",
    "    \n",
    "        returns : (tweeter_id, tweeter_screenname), list of (interacting_id, interacting_screenname)\n",
    "    \"\"\"\n",
    "    \n",
    "    # Get the tweeter\n",
    "    tweeter = getUserIDandScreenName(tweet)\n",
    "    \n",
    "    # Nothing to do if we couldn't get the tweeter\n",
    "    if tweeter[0] is None:\n",
    "        return (None, None), []\n",
    "    \n",
    "    # a python set is a collection of unique items\n",
    "    # we use a set to avoid duplicated ids\n",
    "    interacting_users = set()\n",
    "    \n",
    "    # Add person they're replying to\n",
    "    interacting_users.add(getRepliedUserIDandScreenName(tweet))\n",
    "    \n",
    "    # Add person they retweeted\n",
    "    interacting_users.add(getRetweetedUserIDandSreenName(tweet))\n",
    "    \n",
    "    # Add person they quoted\n",
    "    interacting_users.add(getQuotedUserIDandScreenName(tweet))\n",
    "    \n",
    "    # Add mentions\n",
    "    interacting_users.update(getUserMentionsIDandScreenName(tweet))\n",
    "  \n",
    "    # remove the tweeter if he is in the set\n",
    "    interacting_users.discard(tweeter)\n",
    "    # remove the None case\n",
    "    interacting_users.discard((None,None))\n",
    "    \n",
    "    # Return our tweeter and their influencers\n",
    "    return tweeter, list(interacting_users)\n",
    "    \n"
   ]
  },
  {
   "cell_type": "code",
   "execution_count": 18,
   "metadata": {},
   "outputs": [
    {
     "name": "stdout",
     "output_type": "stream",
     "text": [
      "(3070524046, 'x_xmilix_x')\n",
      "((3070524046, 'x_xmilix_x'), [])\n"
     ]
    }
   ],
   "source": [
    "print(getUserIDandScreenName(tweet))\n",
    "print(getAllInteractions(tweet))"
   ]
  },
  {
   "cell_type": "markdown",
   "metadata": {},
   "source": [
    "#### Let's build the network"
   ]
  },
  {
   "cell_type": "code",
   "execution_count": 19,
   "metadata": {
    "collapsed": true
   },
   "outputs": [],
   "source": [
    "import networkx as nx\n",
    "\n",
    "# define an empty Directed Graph\n",
    "# A directed graph is a graph where edges have a direction\n",
    "# in our case the edges goes from user that sent the tweet to\n",
    "# the user with whom they interacted (retweeted, mentioned or quoted)\n",
    "G = nx.DiGraph()\n",
    "\n",
    "# loop over all the tweets and add edges if the tweet include some interactions\n",
    "for tweet in tweet_list:\n",
    "    # find all influencers in the tweet\n",
    "    tweeter, interactions = getAllInteractions(tweet)\n",
    "    tweeter_id, tweeter_name = tweeter\n",
    "    \n",
    "    # add an edge to the Graph for each influencer\n",
    "    for interaction in interactions:\n",
    "        interact_id, interact_name = interaction\n",
    "        \n",
    "        # add edges between the two user ids\n",
    "        # this will create new nodes if the nodes are not already in the network\n",
    "        G.add_edge(tweeter_id, interact_id)\n",
    "        \n",
    "        # add name as a property to each node\n",
    "        # with networkX each node is a dictionary\n",
    "        G.node[tweeter_id]['name'] = tweeter_name\n",
    "        G.node[interact_id]['name'] = interact_name\n",
    "        "
   ]
  },
  {
   "cell_type": "code",
   "execution_count": 20,
   "metadata": {},
   "outputs": [
    {
     "name": "stdout",
     "output_type": "stream",
     "text": [
      "<class 'dict'>\n"
     ]
    }
   ],
   "source": [
    "# The graph's node are contained in a dictionary \n",
    "print(type(G.node))\n"
   ]
  },
  {
   "cell_type": "code",
   "execution_count": 21,
   "metadata": {},
   "outputs": [
    {
     "name": "stdout",
     "output_type": "stream",
     "text": [
      "{'name': 'WithAnOhioBias'}\n"
     ]
    }
   ],
   "source": [
    "#print(G.node.keys())\n",
    "# the keys are the user_id\n",
    "print(G.node[tweeter_id])\n"
   ]
  },
  {
   "cell_type": "code",
   "execution_count": 22,
   "metadata": {},
   "outputs": [
    {
     "name": "stdout",
     "output_type": "stream",
     "text": [
      "<class 'dict'>\n"
     ]
    }
   ],
   "source": [
    "# each node is itself a dictionary with node attributes as key,value pairs\n",
    "print(type(G.node[tweeter_id]))"
   ]
  },
  {
   "cell_type": "code",
   "execution_count": 23,
   "metadata": {},
   "outputs": [
    {
     "name": "stdout",
     "output_type": "stream",
     "text": [
      "<class 'dict'>\n"
     ]
    }
   ],
   "source": [
    "# edges are also contained in a dictionary\n",
    "print(type(G.edge))\n"
   ]
  },
  {
   "cell_type": "code",
   "execution_count": 24,
   "metadata": {},
   "outputs": [
    {
     "name": "stdout",
     "output_type": "stream",
     "text": [
      "{19934168: {}}\n"
     ]
    }
   ],
   "source": [
    "# we can see all the edges going out of this node\n",
    "# each edge is a dictionary inside this dictionary with a key \n",
    "# corresponding to the target user_id\n",
    "print(G.edge[tweeter_id])"
   ]
  },
  {
   "cell_type": "code",
   "execution_count": 25,
   "metadata": {},
   "outputs": [
    {
     "data": {
      "text/plain": [
       "{}"
      ]
     },
     "execution_count": 25,
     "metadata": {},
     "output_type": "execute_result"
    }
   ],
   "source": [
    "# so we can access the edge using the source user_id and the target user_id\n",
    "G.edge[tweeter_id][interact_id]"
   ]
  },
  {
   "cell_type": "markdown",
   "metadata": {},
   "source": [
    "#### Some basic properties of the Network:"
   ]
  },
  {
   "cell_type": "code",
   "execution_count": 26,
   "metadata": {},
   "outputs": [
    {
     "data": {
      "text/plain": [
       "4310"
      ]
     },
     "execution_count": 26,
     "metadata": {},
     "output_type": "execute_result"
    }
   ],
   "source": [
    "G.number_of_nodes()"
   ]
  },
  {
   "cell_type": "code",
   "execution_count": 27,
   "metadata": {},
   "outputs": [
    {
     "data": {
      "text/plain": [
       "4665"
      ]
     },
     "execution_count": 27,
     "metadata": {},
     "output_type": "execute_result"
    }
   ],
   "source": [
    "G.number_of_edges()"
   ]
  },
  {
   "cell_type": "code",
   "execution_count": 28,
   "metadata": {},
   "outputs": [
    {
     "data": {
      "text/plain": [
       "[3226000831, 17349560, 837339093214318593]"
      ]
     },
     "execution_count": 28,
     "metadata": {},
     "output_type": "execute_result"
    }
   ],
   "source": [
    "# listing all nodes \n",
    "node_list = G.nodes()\n",
    "node_list[:3]"
   ]
  },
  {
   "cell_type": "code",
   "execution_count": 29,
   "metadata": {},
   "outputs": [
    {
     "name": "stdout",
     "output_type": "stream",
     "text": [
      "2\n",
      "0\n",
      "2\n"
     ]
    }
   ],
   "source": [
    "# degree of a node\n",
    "print(G.degree(node_list[2]))\n",
    "print(G.in_degree(node_list[2]))\n",
    "print(G.out_degree(node_list[2]))"
   ]
  },
  {
   "cell_type": "code",
   "execution_count": 30,
   "metadata": {
    "collapsed": true
   },
   "outputs": [],
   "source": [
    "# dictionary with the degree of all nodes\n",
    "all_degrees = G.degree(node_list) # this is the degree for undirected edges\n",
    "in_degrees = G.in_degree(node_list)\n",
    "out_degrees = G.in_degree(node_list)"
   ]
  },
  {
   "cell_type": "code",
   "execution_count": 31,
   "metadata": {},
   "outputs": [
    {
     "data": {
      "text/plain": [
       "2.1647331786542923"
      ]
     },
     "execution_count": 31,
     "metadata": {},
     "output_type": "execute_result"
    }
   ],
   "source": [
    "# average degree\n",
    "2*G.number_of_edges()/G.number_of_nodes()"
   ]
  },
  {
   "cell_type": "code",
   "execution_count": 32,
   "metadata": {},
   "outputs": [
    {
     "data": {
      "text/plain": [
       "2.1647331786542923"
      ]
     },
     "execution_count": 32,
     "metadata": {},
     "output_type": "execute_result"
    }
   ],
   "source": [
    "import numpy as np\n",
    "np.array(list(all_degrees.values())).mean()"
   ]
  },
  {
   "cell_type": "code",
   "execution_count": 33,
   "metadata": {},
   "outputs": [
    {
     "data": {
      "text/plain": [
       "1.0823665893271461"
      ]
     },
     "execution_count": 33,
     "metadata": {},
     "output_type": "execute_result"
    }
   ],
   "source": [
    "np.array(list(in_degrees.values())).mean()"
   ]
  },
  {
   "cell_type": "code",
   "execution_count": 34,
   "metadata": {},
   "outputs": [
    {
     "data": {
      "text/plain": [
       "1.0823665893271461"
      ]
     },
     "execution_count": 34,
     "metadata": {},
     "output_type": "execute_result"
    }
   ],
   "source": [
    "np.array(list(out_degrees.values())).mean()"
   ]
  },
  {
   "cell_type": "code",
   "execution_count": 35,
   "metadata": {},
   "outputs": [
    {
     "data": {
      "text/plain": [
       "265"
      ]
     },
     "execution_count": 35,
     "metadata": {},
     "output_type": "execute_result"
    }
   ],
   "source": [
    "# maximum degree\n",
    "max(all_degrees.values())"
   ]
  },
  {
   "cell_type": "code",
   "execution_count": 36,
   "metadata": {},
   "outputs": [
    {
     "name": "stdout",
     "output_type": "stream",
     "text": [
      "Unordered user, degree list\n",
      "[(3226000831, 'LisaStartups', 1), (17349560, 'IoTRecruiting', 209), (837339093214318593, 'eframiyascnsu', 2), (16145086, 'InvestorIdeas', 212), (209484168, 'scoopit', 38), (2390579695, 'NatureGeekRobin', 1), (860148473873739779, 'cristinvincent4', 1), (740545840838774784, 'humcrum1', 4), (3390728889, 'Arron_banks', 1), (801446214784925696, 'WestmonsterUK', 1)]\n",
      "Ordered user, degree list\n",
      "[(15438913, 'MailOnline', 265), (16145086, 'InvestorIdeas', 212), (17349560, 'IoTRecruiting', 209), (380285402, 'DailyMail', 123), (841437061, 'DeepLearn007', 110), (111556423, 'DailyMailUK', 100), (335141638, 'BTS_twt', 92), (1927621387, 'AbyssCreations', 89), (111556576, 'MailSport', 76), (709564705304498176, 'calcaware', 59)]\n"
     ]
    }
   ],
   "source": [
    "# we want to make a list with (user_id, username, degree) for all nodes\n",
    "degree_node_list = []\n",
    "for node in G.nodes_iter():\n",
    "    degree_node_list.append((node, G.node[node]['name'], G.degree(node)))\n",
    "    \n",
    "print('Unordered user, degree list')    \n",
    "print(degree_node_list[:10])\n",
    "\n",
    "# sort the list according the degree in descinding order\n",
    "degree_node_list = sorted(degree_node_list, key=lambda x:x[2], reverse=True)\n",
    "print('Ordered user, degree list')    \n",
    "print(degree_node_list[:10])"
   ]
  },
  {
   "cell_type": "code",
   "execution_count": 37,
   "metadata": {
    "collapsed": true
   },
   "outputs": [],
   "source": [
    "# we need to import matplolib for making plots\n",
    "# and numpy for numerical computations\n",
    "import numpy as np\n",
    "import matplotlib.pyplot as plt\n",
    "%matplotlib inline"
   ]
  },
  {
   "cell_type": "markdown",
   "metadata": {},
   "source": [
    "### Network components\n",
    "\n",
    "For **directed** graphs we can define two types of components:\n",
    "- Weakly connected components\n",
    "- Strongly connected components\n",
    "\n",
    "Weakly connected component (WCC): maximal set of nodes where there exists a path in at least one direction between each pair of nodes.\n",
    "\n",
    "Strongly connected component (SCC): maximal set of nodes where there exists a path in both directions between each pair of nodes.\n",
    "\n",
    "Weakly connected giant (largest) component (WCGC): Largest WCC\n",
    "Strongly connected giant (largest) component (SCGC): Largest SCC\n",
    "\n",
    "<img src=\"network_components.svg\" style=\"width: 250px;\"/>"
   ]
  },
  {
   "cell_type": "code",
   "execution_count": 38,
   "metadata": {
    "collapsed": true
   },
   "outputs": [],
   "source": [
    "# this returns a list of set of nodes belonging to the \n",
    "# different (weakly) connected components\n",
    "components = list(nx.weakly_connected_components(G))\n",
    "\n",
    "# sort the component according to their size\n",
    "components = list(sorted(components, key=lambda x:len(x), reverse=True))"
   ]
  },
  {
   "cell_type": "code",
   "execution_count": 39,
   "metadata": {
    "collapsed": true
   },
   "outputs": [],
   "source": [
    "# make a list with the size of each component\n",
    "comp_sizes = []\n",
    "for comp in components:\n",
    "    comp_sizes.append(len(comp))"
   ]
  },
  {
   "cell_type": "code",
   "execution_count": 40,
   "metadata": {},
   "outputs": [
    {
     "data": {
      "image/png": "[encoded data removed]",
      "text/plain": [
       "<matplotlib.figure.Figure at 0x178bff26cc0>"
      ]
     },
     "metadata": {},
     "output_type": "display_data"
    }
   ],
   "source": [
    "# plot the histogram of component sizes\n",
    "hist = plt.hist(comp_sizes, bins=100)"
   ]
  },
  {
   "cell_type": "code",
   "execution_count": 41,
   "metadata": {},
   "outputs": [
    {
     "data": {
      "text/plain": [
       "<matplotlib.text.Text at 0x178c01e5748>"
      ]
     },
     "execution_count": 41,
     "metadata": {},
     "output_type": "execute_result"
    },
    {
     "data": {
      "image/png": "[encoded data removed]",
      "text/plain": [
       "<matplotlib.figure.Figure at 0x178c02302e8>"
      ]
     },
     "metadata": {},
     "output_type": "display_data"
    }
   ],
   "source": [
    "# histogram with logarithmic y scale\n",
    "hist = plt.hist(comp_sizes, bins=100, log=True)\n",
    "plt.xlabel('component size')\n",
    "plt.ylabel('number of components')"
   ]
  },
  {
   "cell_type": "code",
   "execution_count": 42,
   "metadata": {},
   "outputs": [
    {
     "data": {
      "text/plain": [
       "[1376, 724, 144, 106, 44, 21, 16, 14, 14, 14]"
      ]
     },
     "execution_count": 42,
     "metadata": {},
     "output_type": "execute_result"
    }
   ],
   "source": [
    "# sizes of the ten largest components\n",
    "comp_sizes[:10]"
   ]
  },
  {
   "cell_type": "code",
   "execution_count": 43,
   "metadata": {
    "collapsed": true
   },
   "outputs": [],
   "source": [
    "# let's make a new graph which is the subgraph of G corresponding to \n",
    "# the largest connected component\n",
    "# let's find the largest component\n",
    "largest_comp = components[0]\n",
    "LCC = G.subgraph(largest_comp)"
   ]
  },
  {
   "cell_type": "code",
   "execution_count": 44,
   "metadata": {},
   "outputs": [
    {
     "data": {
      "text/plain": [
       "4310"
      ]
     },
     "execution_count": 44,
     "metadata": {},
     "output_type": "execute_result"
    }
   ],
   "source": [
    "G.number_of_nodes()"
   ]
  },
  {
   "cell_type": "code",
   "execution_count": 45,
   "metadata": {},
   "outputs": [
    {
     "data": {
      "text/plain": [
       "1376"
      ]
     },
     "execution_count": 45,
     "metadata": {},
     "output_type": "execute_result"
    }
   ],
   "source": [
    "LCC.number_of_nodes()"
   ]
  },
  {
   "cell_type": "code",
   "execution_count": 46,
   "metadata": {},
   "outputs": [
    {
     "data": {
      "text/plain": [
       "{711840142382620672: 1,\n",
       " 718458272433373185: 1,\n",
       " 860149966764998656: 1,\n",
       " 860206486529744899: 1,\n",
       " 860149750447972353: 1,\n",
       " 860144534172205057: 1,\n",
       " 860210476046852102: 1,\n",
       " 860162059987582977: 1,\n",
       " 860210765021708291: 1,\n",
       " 860163112531525634: 1,\n",
       " 769485015046643722: 1,\n",
       " 798166907753005061: 5,\n",
       " 809010547815546885: 20,\n",
       " 834712609345634308: 2,\n",
       " 854445306708099081: 1,\n",
       " 860150148554293249: 1,\n",
       " 3296903193: 1,\n",
       " 799031342: 1,\n",
       " 1021182000: 1,\n",
       " 3061784627: 1,\n",
       " 24928313: 1,\n",
       " 15917118: 2,\n",
       " 4481835072: 8,\n",
       " 3223912514: 1,\n",
       " 36339779: 4,\n",
       " 705539763349164032: 36,\n",
       " 702817655733030912: 1,\n",
       " 768780302214959104: 1,\n",
       " 835533674347171840: 1,\n",
       " 838384175698874368: 1,\n",
       " 838322702117179392: 1,\n",
       " 835062326676099072: 2,\n",
       " 22642788: 1,\n",
       " 1702936681: 4,\n",
       " 777992630722498560: 2,\n",
       " 746359431613517824: 2,\n",
       " 787419801006247936: 1,\n",
       " 772361408956731392: 4,\n",
       " 769546771580194816: 1,\n",
       " 828961332334563329: 1,\n",
       " 781924257194446849: 2,\n",
       " 819518438825660417: 1,\n",
       " 769431558868570112: 1,\n",
       " 768844352521113601: 1,\n",
       " 773628725829177345: 3,\n",
       " 775027582047752193: 1,\n",
       " 3214647434: 4,\n",
       " 18243723: 1,\n",
       " 2225315982: 1,\n",
       " 984219792: 5,\n",
       " 947855521: 1,\n",
       " 454008999: 1,\n",
       " 110911659: 2,\n",
       " 1523327148: 1,\n",
       " 1156366519: 31,\n",
       " 9068732: 2,\n",
       " 65085635: 2,\n",
       " 2776293590: 2,\n",
       " 700965078: 1,\n",
       " 3370287333: 1,\n",
       " 21709050: 2,\n",
       " 860168211844571136: 1,\n",
       " 768942281852198912: 1,\n",
       " 860161753904062464: 1,\n",
       " 852812552765448192: 2,\n",
       " 860163723528249345: 1,\n",
       " 856160729753198593: 1,\n",
       " 1165721864: 2,\n",
       " 366649622: 1,\n",
       " 730644764: 1,\n",
       " 1294621: 2,\n",
       " 3226026277: 1,\n",
       " 1969430822: 1,\n",
       " 165896498: 2,\n",
       " 849887850015404032: 1,\n",
       " 860160120445120512: 1,\n",
       " 860163082110283776: 1,\n",
       " 125632822: 8,\n",
       " 860162958025994240: 1,\n",
       " 860217205543317504: 1,\n",
       " 33202502: 1,\n",
       " 314515786: 1,\n",
       " 1970053458: 1,\n",
       " 1544118613: 2,\n",
       " 19915112: 2,\n",
       " 3048194411: 2,\n",
       " 89203052: 2,\n",
       " 2149187947: 1,\n",
       " 2423931254: 2,\n",
       " 2449670522: 1,\n",
       " 837407586949410816: 1,\n",
       " 835225809682051072: 2,\n",
       " 837342315945537536: 1,\n",
       " 836879110739734528: 3,\n",
       " 4824596866: 1,\n",
       " 829496506021457920: 1,\n",
       " 3021611399: 2,\n",
       " 836889174338842624: 1,\n",
       " 744246081337307136: 1,\n",
       " 831619328185348096: 4,\n",
       " 835520822714445826: 2,\n",
       " 837297831438331905: 2,\n",
       " 834833711107551233: 1,\n",
       " 835190595626872833: 1,\n",
       " 835816905940283393: 1,\n",
       " 101810581: 4,\n",
       " 838408563894661124: 1,\n",
       " 837352670499319813: 1,\n",
       " 69288359: 1,\n",
       " 62316970: 3,\n",
       " 428114358: 8,\n",
       " 363717060: 1,\n",
       " 117490122: 1,\n",
       " 4010074576: 1,\n",
       " 924361172: 14,\n",
       " 2791350752: 3,\n",
       " 113050080: 5,\n",
       " 849525513039347712: 3,\n",
       " 854081153376157696: 3,\n",
       " 860166042471071744: 1,\n",
       " 335348201: 3,\n",
       " 2483200492: 1,\n",
       " 54706681: 1,\n",
       " 2606940668: 1,\n",
       " 2429854207: 1,\n",
       " 854580694017867777: 1,\n",
       " 860165536822345728: 1,\n",
       " 860160040556052480: 1,\n",
       " 860165079282499584: 1,\n",
       " 860156972854689792: 1,\n",
       " 2437661196: 1,\n",
       " 2704548373: 1,\n",
       " 33612317: 3,\n",
       " 1969390123: 1,\n",
       " 2405442102: 2,\n",
       " 53256760: 1,\n",
       " 1711571520: 6,\n",
       " 615809625: 2,\n",
       " 134873695: 1,\n",
       " 1196671592: 3,\n",
       " 837296011806658560: 1,\n",
       " 837316611178647552: 1,\n",
       " 835368380475527168: 1,\n",
       " 837366861566201856: 2,\n",
       " 837291780185935872: 2,\n",
       " 837339093214318593: 2,\n",
       " 837377031264423937: 1,\n",
       " 835485407693393921: 1,\n",
       " 838306010867585025: 3,\n",
       " 837339624376782849: 1,\n",
       " 838366862123618305: 1,\n",
       " 838319111620939777: 1,\n",
       " 2862563979: 1,\n",
       " 281174670: 4,\n",
       " 837391244540137475: 1,\n",
       " 413246117: 1,\n",
       " 448045737: 1,\n",
       " 14885549: 1,\n",
       " 468148913: 1,\n",
       " 3054789297: 1,\n",
       " 5120691: 8,\n",
       " 16663249: 6,\n",
       " 2873475809: 4,\n",
       " 2375934691: 5,\n",
       " 18244332: 1,\n",
       " 46768880: 10,\n",
       " 16155382: 2,\n",
       " 828720893496942592: 1,\n",
       " 712904434217410560: 3,\n",
       " 705584490928693248: 4,\n",
       " 829108462244093952: 4,\n",
       " 829105905807417345: 1,\n",
       " 15696647: 5,\n",
       " 123298601: 1,\n",
       " 31441718: 2,\n",
       " 445981509: 2,\n",
       " 2882224972: 7,\n",
       " 15221598: 1,\n",
       " 107357029: 1,\n",
       " 835361598525042688: 1,\n",
       " 835486032720195584: 1,\n",
       " 826402120991666176: 1,\n",
       " 827889855384416256: 1,\n",
       " 768032918920916992: 1,\n",
       " 769549485248770048: 1,\n",
       " 769594000852545536: 1,\n",
       " 790514314104958976: 1,\n",
       " 835780708832538624: 1,\n",
       " 17154954: 2,\n",
       " 837397411618254849: 2,\n",
       " 828909635763597313: 1,\n",
       " 135250831: 2,\n",
       " 827988948064563203: 1,\n",
       " 19284888: 3,\n",
       " 58639268: 1,\n",
       " 432776112: 2,\n",
       " 1372029883: 23,\n",
       " 1969652682: 1,\n",
       " 1969284056: 1,\n",
       " 30581721: 1,\n",
       " 32924635: 1,\n",
       " 46875612: 3,\n",
       " 2692236266: 1,\n",
       " 635298820: 1,\n",
       " 3750470663: 1,\n",
       " 537158664: 4,\n",
       " 292799521: 1,\n",
       " 29287486: 3,\n",
       " 1477739592: 2,\n",
       " 24839262: 1,\n",
       " 302605412: 1,\n",
       " 2238579824: 1,\n",
       " 374318199: 2,\n",
       " 849710985703297025: 1,\n",
       " 846014785246367745: 1,\n",
       " 3226002576: 1,\n",
       " 3042993302: 1,\n",
       " 32883868: 2,\n",
       " 835209866012680192: 2,\n",
       " 835494912246308864: 3,\n",
       " 837413998408654848: 2,\n",
       " 836574071181697024: 1,\n",
       " 275686563: 4,\n",
       " 837307605081022465: 1,\n",
       " 2936587459: 1,\n",
       " 118359242: 1,\n",
       " 1246421: 2,\n",
       " 157787372: 1,\n",
       " 3037463790: 1,\n",
       " 130745589: 7,\n",
       " 713973: 1,\n",
       " 829550812418318336: 1,\n",
       " 835315936127131648: 1,\n",
       " 793300503035641856: 1,\n",
       " 15492359: 3,\n",
       " 22537480: 1,\n",
       " 860151647883755520: 1,\n",
       " 860163571451166720: 1,\n",
       " 827280171702984706: 2,\n",
       " 860162487668178944: 1,\n",
       " 381560093: 1,\n",
       " 703148323885023233: 11,\n",
       " 2482988319: 1,\n",
       " 161801527: 6,\n",
       " 164775233: 2,\n",
       " 2811405634: 1,\n",
       " 137790790: 2,\n",
       " 22873424: 3,\n",
       " 1540089176: 1,\n",
       " 3386918242: 1,\n",
       " 1969775978: 1,\n",
       " 3040454013: 9,\n",
       " 4861830525: 1,\n",
       " 849890014846693376: 1,\n",
       " 854707607994544128: 1,\n",
       " 849887285109764096: 1,\n",
       " 849264472124469248: 1,\n",
       " 849349687136137216: 1,\n",
       " 771036263155630080: 3,\n",
       " 781829198545551360: 2,\n",
       " 849611527569190913: 1,\n",
       " 854318019803262977: 3,\n",
       " 849271431540113408: 3,\n",
       " 849163775634702336: 2,\n",
       " 838348032693370880: 1,\n",
       " 854214969201700865: 1,\n",
       " 849453227565252608: 2,\n",
       " 837300129493286912: 1,\n",
       " 860215672005111810: 1,\n",
       " 79201672: 7,\n",
       " 846999607297093634: 1,\n",
       " 854317669474021378: 1,\n",
       " 23324052: 1,\n",
       " 849642857107468292: 2,\n",
       " 54707608: 2,\n",
       " 835417855210422273: 2,\n",
       " 838406839536582657: 1,\n",
       " 769302724991123457: 1,\n",
       " 855938456123473921: 4,\n",
       " 838361654391865345: 1,\n",
       " 830596347455733761: 2,\n",
       " 835737289443639297: 2,\n",
       " 1226319277: 1,\n",
       " 4796745148: 51,\n",
       " 947758536: 1,\n",
       " 2551244240: 3,\n",
       " 226715102: 1,\n",
       " 17688049: 1,\n",
       " 860205207392665600: 1,\n",
       " 848804341880242176: 2,\n",
       " 240731649: 3,\n",
       " 3405424143: 1,\n",
       " 95626773: 2,\n",
       " 2396718630: 4,\n",
       " 3186746918: 1,\n",
       " 28681769: 1,\n",
       " 229533226: 1,\n",
       " 42452522: 1,\n",
       " 316950064: 1,\n",
       " 860209629707554816: 1,\n",
       " 298673723: 1,\n",
       " 4077332060: 1,\n",
       " 1397237364: 2,\n",
       " 854269421510119424: 1,\n",
       " 858776474513494016: 1,\n",
       " 854365914933940224: 2,\n",
       " 697522301642919936: 2,\n",
       " 854738734213943296: 1,\n",
       " 849594374698749953: 3,\n",
       " 853538188446584833: 3,\n",
       " 849306339125940225: 1,\n",
       " 849417437263089665: 1,\n",
       " 856565955140440064: 1,\n",
       " 860160715902078977: 1,\n",
       " 856201705515569154: 1,\n",
       " 3324651150: 3,\n",
       " 30205586: 1,\n",
       " 2564064923: 1,\n",
       " 38790830: 3,\n",
       " 3165497013: 19,\n",
       " 779970529558134784: 1,\n",
       " 303154900: 1,\n",
       " 3161843418: 1,\n",
       " 854699959605764096: 1,\n",
       " 856152091546591232: 1,\n",
       " 854325126166454272: 1,\n",
       " 849429260347613184: 1,\n",
       " 849669612388196352: 1,\n",
       " 85509895: 5,\n",
       " 3314009881: 1,\n",
       " 838411656787030016: 1,\n",
       " 515065635: 1,\n",
       " 748999989775462400: 1,\n",
       " 17123109: 1,\n",
       " 828928147596902400: 1,\n",
       " 19375950: 3,\n",
       " 3699394401: 1,\n",
       " 20678505: 1,\n",
       " 772661116946280448: 3,\n",
       " 778329986176577536: 2,\n",
       " 831364772641828864: 1,\n",
       " 772588298493685760: 1,\n",
       " 810508178232373248: 2,\n",
       " 827820094659162112: 1,\n",
       " 834746528342405121: 3,\n",
       " 834274721046917121: 1,\n",
       " 823291738383118338: 1,\n",
       " 828890134795972610: 2,\n",
       " 828886161691176962: 1,\n",
       " 822501363343093762: 1,\n",
       " 19425169: 1,\n",
       " 148031377: 3,\n",
       " 232294292: 3,\n",
       " 789586391944589317: 3,\n",
       " 1103955882: 1,\n",
       " 17754032: 2,\n",
       " 6399922: 3,\n",
       " 555198400: 3,\n",
       " 2968012739: 1,\n",
       " 1969776624: 1,\n",
       " 1969440758: 1,\n",
       " 16680957: 4,\n",
       " 2382923779: 2,\n",
       " 769218140202995712: 1,\n",
       " 762630650771935232: 1,\n",
       " 705850200473010178: 2,\n",
       " 771007619360231424: 2,\n",
       " 733960139380756480: 3,\n",
       " 21170191: 3,\n",
       " 753877229139005440: 1,\n",
       " 827890482445422592: 1,\n",
       " 11069462: 6,\n",
       " 3124389928: 1,\n",
       " 40937524: 1,\n",
       " 2381097013: 1,\n",
       " 15583287: 4,\n",
       " 555075657: 8,\n",
       " 1076193356: 1,\n",
       " 15632463: 2,\n",
       " 560277587: 1,\n",
       " 2788370532: 2,\n",
       " 25053299: 3,\n",
       " 808320971748872192: 2,\n",
       " 788061318670651392: 2,\n",
       " 734696606742810624: 3,\n",
       " 792791914525429760: 1,\n",
       " 834998210938736640: 3,\n",
       " 835579822470533120: 1,\n",
       " 815887916417355777: 1,\n",
       " 835677286405967873: 2,\n",
       " 837353335166537729: 1,\n",
       " 835097538390855681: 2,\n",
       " 835433520562638849: 2,\n",
       " 837390909306245122: 1,\n",
       " 823888271814103041: 2,\n",
       " 838378388402409473: 1,\n",
       " 2893971: 5,\n",
       " 202590356: 2,\n",
       " 15960218: 2,\n",
       " 3346786462: 1,\n",
       " 4262946977: 1,\n",
       " 3337390245: 2,\n",
       " 3065989288: 3,\n",
       " 465021137: 2,\n",
       " 38398195: 1,\n",
       " 35203319: 20,\n",
       " 728134256187219968: 1,\n",
       " 800408333022732288: 3,\n",
       " 722843751148756992: 1,\n",
       " 51734793: 5,\n",
       " 201664779: 1,\n",
       " 72558860: 1,\n",
       " 2389076270: 1,\n",
       " 280455470: 1,\n",
       " 20277582: 3,\n",
       " 3055593813: 1,\n",
       " 520579417: 1,\n",
       " 16451932: 1,\n",
       " 293177694: 1,\n",
       " 3223914860: 1,\n",
       " 2974460282: 1,\n",
       " 24668544: 3,\n",
       " 839120727374770176: 3,\n",
       " 837369664904835072: 1,\n",
       " 837300983877283840: 1,\n",
       " 837356366075473920: 1,\n",
       " 835704189242257408: 2,\n",
       " 838327272700588032: 1,\n",
       " 837352382640107520: 1,\n",
       " 838310224956174336: 1,\n",
       " 835754851019730945: 3,\n",
       " 835704940978974722: 1,\n",
       " 2510072210: 2,\n",
       " 468117909: 1,\n",
       " 835097147540451333: 1,\n",
       " 28207516: 3,\n",
       " 2471766433: 1,\n",
       " 272804260: 1,\n",
       " 768403535356657664: 1,\n",
       " 838353956589961216: 1,\n",
       " 969542076: 4,\n",
       " 99674560: 1,\n",
       " 1309731290: 9,\n",
       " 48949722: 1,\n",
       " 1439713758: 1,\n",
       " 613329382: 1,\n",
       " 14109159: 1,\n",
       " 618891759: 2,\n",
       " 3320809967: 1,\n",
       " 14871035: 2,\n",
       " 815967960934203392: 3,\n",
       " 6629912: 2,\n",
       " 87869991: 1,\n",
       " 3223939633: 1,\n",
       " 464439857: 1,\n",
       " 56879674: 3,\n",
       " 84421182: 1,\n",
       " 119802433: 16,\n",
       " 14715458: 4,\n",
       " 3297929800: 2,\n",
       " 860152145659777024: 1,\n",
       " 860208936795983872: 1,\n",
       " 860209175384772608: 1,\n",
       " 806009670343282688: 9,\n",
       " 834472979736252416: 1,\n",
       " 15755882: 1,\n",
       " 860156433396092929: 1,\n",
       " 25152123: 5,\n",
       " 828948999138922496: 1,\n",
       " 826769542814846976: 1,\n",
       " 811209223715639296: 1,\n",
       " 853594750603186176: 2,\n",
       " 832010234524815360: 2,\n",
       " 849634161077997568: 1,\n",
       " 856198915699462144: 1,\n",
       " 831983385795055616: 2,\n",
       " 854302463930880000: 1,\n",
       " 815674642463674369: 3,\n",
       " 854278892546379777: 2,\n",
       " 857167005694251009: 1,\n",
       " 854494559119822849: 3,\n",
       " 856190190955745281: 1,\n",
       " 860166605736726529: 1,\n",
       " 860167032477798402: 1,\n",
       " 860209804173856771: 1,\n",
       " 782538648482881536: 1,\n",
       " 785472437060247552: 1,\n",
       " 754289113294053376: 1,\n",
       " 378743443: 1,\n",
       " 849471590442160132: 1,\n",
       " 834795095631208448: 2,\n",
       " 834817676438622213: 1,\n",
       " 851765759869145093: 1,\n",
       " 849278637450940422: 3,\n",
       " 2469939907: 1,\n",
       " 487312107: 2,\n",
       " 149089014: 2,\n",
       " 860161340354158592: 1,\n",
       " 860161513822183424: 1,\n",
       " 860164735261564928: 1,\n",
       " 559582007: 2,\n",
       " 100772684: 2,\n",
       " 2566991: 3,\n",
       " 489294689: 1,\n",
       " 3339389805: 2,\n",
       " 3227962225: 1,\n",
       " 15919988: 2,\n",
       " 917187452: 2,\n",
       " 849200580606259200: 1,\n",
       " 849893025983721472: 1,\n",
       " 860153518669393920: 1,\n",
       " 860212241483919360: 1,\n",
       " 860162967094128640: 1,\n",
       " 852460030410584064: 3,\n",
       " 860165848232849408: 1,\n",
       " 860152870439710721: 1,\n",
       " 860160598616797185: 1,\n",
       " 821766660822626304: 3,\n",
       " 860168702926483458: 1,\n",
       " 849234016658223105: 3,\n",
       " 849498431081115649: 1,\n",
       " 849342088860889091: 1,\n",
       " 8768402: 1,\n",
       " 813442504137863172: 3,\n",
       " 860164926492602373: 1,\n",
       " 463907759: 1,\n",
       " 1703963568: 1,\n",
       " 851086256: 2,\n",
       " 20802480: 6,\n",
       " 237906871: 1,\n",
       " 3153734587: 1,\n",
       " 14216123: 1,\n",
       " 3427261: 1,\n",
       " 153775043: 1,\n",
       " 598436843: 1,\n",
       " 156666863: 2,\n",
       " 4619684853: 3,\n",
       " 14650362: 2,\n",
       " 3225922572: 1,\n",
       " 3831720977: 1,\n",
       " 2742938653: 3,\n",
       " 3266661420: 1,\n",
       " 2979998773: 2,\n",
       " 196496463: 2,\n",
       " 21351506: 1,\n",
       " 2436238419: 1,\n",
       " 1970203734: 1,\n",
       " 1713417312: 1,\n",
       " 152988768: 1,\n",
       " 3107384434: 1,\n",
       " 1969384574: 1,\n",
       " 843870644999786496: 15,\n",
       " 849622384323825664: 1,\n",
       " 849247635684954112: 1,\n",
       " 856167832958242816: 1,\n",
       " 849174596272230400: 1,\n",
       " 860156106747908096: 1,\n",
       " 860208856877731840: 1,\n",
       " 860168170979692544: 1,\n",
       " 860157108121210880: 1,\n",
       " 860169050462326784: 1,\n",
       " 860209698695516161: 1,\n",
       " 860211503051542529: 1,\n",
       " 860169963268706305: 1,\n",
       " 860154026394095618: 1,\n",
       " 860164653565054978: 1,\n",
       " 534563976: 22,\n",
       " 854411620621193219: 1,\n",
       " 354544791: 1,\n",
       " 2343496862: 1,\n",
       " 92343472: 1,\n",
       " 26078393: 8,\n",
       " 108367046: 1,\n",
       " 1970162887: 1,\n",
       " 41135304: 1,\n",
       " 101584084: 1,\n",
       " 849245523638968320: 3,\n",
       " 25742569: 5,\n",
       " 222039288: 8,\n",
       " 860164379630739456: 1,\n",
       " 16313602: 1,\n",
       " 835475532213006336: 1,\n",
       " 837327427445600256: 3,\n",
       " 837402566833090560: 2,\n",
       " 837308652038008832: 2,\n",
       " 835320129013559296: 2,\n",
       " 837299899431530496: 1,\n",
       " 835608020428140545: 1,\n",
       " 837326281863737345: 1,\n",
       " 3054906679: 1,\n",
       " 3018526009: 11,\n",
       " 3187952959: 6,\n",
       " 1671384386: 1,\n",
       " 860216477152161792: 1,\n",
       " 860161618516357120: 1,\n",
       " 860149484935950336: 1,\n",
       " 855417266359480320: 5,\n",
       " 849281699963973632: 2,\n",
       " 849889820126195712: 1,\n",
       " 854435278374809600: 2,\n",
       " 856175256930856961: 1,\n",
       " 860148189139283968: 1,\n",
       " 860165883855089664: 1,\n",
       " 849295070142640130: 1,\n",
       " 860159755016450049: 1,\n",
       " 856102228666593281: 1,\n",
       " 856160234783617027: 1,\n",
       " 32583066: 1,\n",
       " 3065228698: 2,\n",
       " 588631454: 1,\n",
       " 227249569: 2,\n",
       " 4374719908: 2,\n",
       " 308850086: 1,\n",
       " 15003048: 1,\n",
       " 1969524146: 1,\n",
       " 59731379: 1,\n",
       " 3386060212: 3,\n",
       " 155364796: 1,\n",
       " 14790085: 1,\n",
       " 834806338479915008: 1,\n",
       " 994761: 2,\n",
       " 1845235153: 4,\n",
       " 2487610835: 1,\n",
       " 74780115: 1,\n",
       " 78704093: 1,\n",
       " 2449722848: 2,\n",
       " 39734757: 1,\n",
       " 192171500: 3,\n",
       " 720547310: 2,\n",
       " 1152486902: 3,\n",
       " 215617024: 1,\n",
       " 860210783501795328: 1,\n",
       " 860167429711839232: 1,\n",
       " 860162726206750720: 1,\n",
       " 4830752258: 1,\n",
       " 860214777091571713: 1,\n",
       " 860170113500168193: 1,\n",
       " 2357079560: 2,\n",
       " 70389262: 1,\n",
       " 316395032: 1,\n",
       " 153751064: 1,\n",
       " 104451618: 3,\n",
       " 19017255: 6,\n",
       " 186019376: 1,\n",
       " 20532806: 1,\n",
       " 213339721: 5,\n",
       " 153415247: 4,\n",
       " 2722008668: 4,\n",
       " 477941341: 3,\n",
       " 267939430: 4,\n",
       " 453611119: 1,\n",
       " 63737462: 1,\n",
       " 3293187707: 1,\n",
       " 4642098815: 26,\n",
       " 14372486: 17,\n",
       " 254094986: 1,\n",
       " 330509973: 4,\n",
       " 3063787169: 1,\n",
       " 783355554: 1,\n",
       " 29445797: 2,\n",
       " 364129964: 1,\n",
       " 3037597357: 1,\n",
       " 32878258: 1,\n",
       " 38186683: 1,\n",
       " 7712452: 2,\n",
       " 849714944471859200: 3,\n",
       " 838312009238183936: 1,\n",
       " 137236199: 1,\n",
       " 620343023: 2,\n",
       " 10194682: 5,\n",
       " 56921859: 1,\n",
       " 45100806: 1,\n",
       " 1605693206: 6,\n",
       " 83324697: 30,\n",
       " 268693290: 1,\n",
       " 3937914677: 2,\n",
       " 3064942389: 2,\n",
       " 21442370: 2,\n",
       " 2903707460: 6,\n",
       " 3290935135: 1,\n",
       " 849367227245752320: 3,\n",
       " 849891967702102016: 2,\n",
       " 849303668549709824: 1,\n",
       " 811574858924650496: 3,\n",
       " 853675687399616512: 3,\n",
       " 850823800451198976: 2,\n",
       " 1684762472: 4,\n",
       " 1281388388: 3,\n",
       " 857752980023635968: 1,\n",
       " 3082932069: 12,\n",
       " 1603547006: 1,\n",
       " 841437061: 110,\n",
       " 837305747545407488: 2,\n",
       " 837289277931274240: 2,\n",
       " 834644070026854400: 1,\n",
       " 828446264832442368: 2,\n",
       " 832007018726703104: 2,\n",
       " 834817330232311808: 1,\n",
       " 76402590: 1,\n",
       " 2863943583: 3,\n",
       " 2759503783: 1,\n",
       " 3232411561: 6,\n",
       " 18911170: 1,\n",
       " 14741453: 3,\n",
       " 128700387: 2,\n",
       " 408440808: 4,\n",
       " 2798120942: 11,\n",
       " 3396063214: 2,\n",
       " 860155224434069504: 1,\n",
       " 860159002273034241: 1,\n",
       " 860160255954743296: 1,\n",
       " 860148473873739779: 1,\n",
       " 860160063293599744: 1,\n",
       " 860162586846867458: 1,\n",
       " 769193767870009344: 1,\n",
       " 781856833992527872: 2,\n",
       " 3226046472: 1,\n",
       " 838410736741322752: 1,\n",
       " 760025695003217921: 1,\n",
       " 828962904590389250: 1,\n",
       " 838374174599090180: 1,\n",
       " 370724877: 1,\n",
       " 718706233885077509: 1,\n",
       " 827941805803057159: 2,\n",
       " 3258363920: 1,\n",
       " 856183129744297995: 1,\n",
       " 835754132472463362: 1,\n",
       " 835096612607229955: 2,\n",
       " 2325278731: 1,\n",
       " 271478805: 1,\n",
       " 766285942449635332: 3,\n",
       " 3160313905: 2,\n",
       " 3765342260: 3,\n",
       " 12480582: 3,\n",
       " 738027168895275008: 2,\n",
       " 838317807385382912: 1,\n",
       " 836887267209842688: 2,\n",
       " 2151485544: 1,\n",
       " 149475451: 16,\n",
       " 18903165: 5,\n",
       " 17330304: 1,\n",
       " 102125698: 1,\n",
       " 828692314826477569: 4,\n",
       " 48828552: 1,\n",
       " 2340409483: 1,\n",
       " 18944153: 2,\n",
       " 2801430698: 2,\n",
       " 807095: 1,\n",
       " 2803716295: 2,\n",
       " 2192666827: 2,\n",
       " 3688992975: 7,\n",
       " 50016468: 1,\n",
       " 411021528: 2,\n",
       " 2390536410: 1,\n",
       " 2731995378: 2,\n",
       " 772661607000317952: 4,\n",
       " 770731919789137920: 1,\n",
       " 769617356284895232: 1,\n",
       " 834609484781723648: 4,\n",
       " 722042028385771520: 1,\n",
       " 769064149699665921: 1,\n",
       " 790604182944358401: 19,\n",
       " 709108992744759297: 7,\n",
       " 755872984888385536: 1,\n",
       " 743520279771619328: 1,\n",
       " 722493162938310657: 1,\n",
       " 784903714045829121: 3,\n",
       " 158830865: 1,\n",
       " 1063637270: 1,\n",
       " 2281132316: 4,\n",
       " 46543136: 1,\n",
       " 2344530218: 17,\n",
       " 1969230126: 1,\n",
       " 320893232: 2,\n",
       " 860148495063363584: 1,\n",
       " 860169048797130752: 1,\n",
       " 849668946970193920: 1,\n",
       " 614609206: 2,\n",
       " 348074302: 3,\n",
       " 860160798508888065: 1,\n",
       " 51810668: 5,\n",
       " 860168454753497088: 1,\n",
       " 720398733020508160: 4,\n",
       " 860160259855233024: 1,\n",
       " 860165910660657152: 1,\n",
       " 277115268: 2,\n",
       " 860152055964381185: 1,\n",
       " 3049165190: 1,\n",
       " 34181507: 1,\n",
       " 713492033852157952: 3,\n",
       " 1970057612: 1,\n",
       " 4869689740: 2,\n",
       " 3220189188: 2,\n",
       " 833587995928178692: 4,\n",
       " 3585208755: 3,\n",
       " 3062272437: 1,\n",
       " 7344572: 4,\n",
       " 36057534: 2,\n",
       " 1074139603: 5,\n",
       " 243683803: 1,\n",
       " 793721694741561344: 1,\n",
       " 849163010665054208: 2,\n",
       " 860214502381551617: 1,\n",
       " 835107948066127872: 2,\n",
       " 811288188056649728: 4,\n",
       " 718358874617692160: 4,\n",
       " 826561489452548096: 1,\n",
       " 835612553925509120: 1,\n",
       " 837339242737057793: 2,\n",
       " 832055771437350913: 1,\n",
       " 835561511057768449: 2,\n",
       " 837381587281002496: 1,\n",
       " 837382587819638784: 1,\n",
       " 302666251: 9,\n",
       " 834728736356450305: 2,\n",
       " 835592153141231617: 1,\n",
       " 826646211495084033: 1,\n",
       " 837413297037131777: 1,\n",
       " 826028828602548227: 7,\n",
       " 2584908306: 1,\n",
       " 278163992: 1,\n",
       " 809518216095612933: 1,\n",
       " 10228272: 6,\n",
       " 18854457: 32,\n",
       " 562967099: 1,\n",
       " 416322109: 2,\n",
       " 31363679: 2,\n",
       " 976253545: 1,\n",
       " 20476532: 2,\n",
       " 709564705304498176: 59,\n",
       " 729867108218064897: 2,\n",
       " 2333708935: 2,\n",
       " 729842069418561537: 3,\n",
       " 2711212681: 12,\n",
       " 723311846359322626: 12,\n",
       " 61559439: 4,\n",
       " 16118433: 2,\n",
       " 2446561964: 2,\n",
       " 1468060333: 2,\n",
       " 484160191: 1,\n",
       " 2475807423: 1,\n",
       " 3429995201: 3,\n",
       " 108286674: 14,\n",
       " 2975134426: 1,\n",
       " 616280800: 1,\n",
       " 18854635: 1,\n",
       " 372904697: 2,\n",
       " 2556637946: 9,\n",
       " 769611974917382144: 1,\n",
       " 39334658: 2,\n",
       " 770068797524959232: 1,\n",
       " 60642052: 15,\n",
       " 824683231391932416: 1,\n",
       " 739926081059315712: 2,\n",
       " 833266879020032000: 2,\n",
       " 768745946624712704: 2,\n",
       " 22516489: 6,\n",
       " 627208970: 1,\n",
       " 837293369671966722: 2,\n",
       " 755369070376148994: 2,\n",
       " 837785794509168641: 2,\n",
       " 835762498192171009: 1,\n",
       " 827861443982811137: 2,\n",
       " 2908107542: 7,\n",
       " 835260336827686917: 1,\n",
       " 19378989: 1,\n",
       " 633754418: 7,\n",
       " 117609281: 2,\n",
       " 419951447: 4,\n",
       " 1969451875: 1,\n",
       " 294376299: 1,\n",
       " 3175494514: 5,\n",
       " 800551267596529664: 2,\n",
       " 2391495565: 1,\n",
       " 204018600: 3,\n",
       " 4903121845: 1,\n",
       " 2599965626: 1,\n",
       " 1970271164: 1,\n",
       " 613864381: 2,\n",
       " 18297831: 1,\n",
       " 837308448031277056: 1,\n",
       " 765566849794867200: 1,\n",
       " 785539732356890624: 2,\n",
       " 835728403139559424: 2,\n",
       " 835781518417100800: 1,\n",
       " 837296885845098496: 1,\n",
       " 835428288470351872: 2,\n",
       " 763309943298621441: 1,\n",
       " 837407373903953921: 1,\n",
       " 835342160518086657: 1,\n",
       " 837304344957583361: 1,\n",
       " 836878926395899905: 1,\n",
       " 811317623317233665: 1,\n",
       " 16290827: 5,\n",
       " 275690505: 1,\n",
       " 837376721871601666: 2,\n",
       " 837362429776527364: 1,\n",
       " 52859938: 3,\n",
       " 19813425: 4,\n",
       " 3148395570: 3,\n",
       " 21328978: 1,\n",
       " 2586932310: 1,\n",
       " 92116069: 3,\n",
       " 860151444229558272: 1,\n",
       " 4120663169: 2,\n",
       " 85480579: 2,\n",
       " 3226145929: 1,\n",
       " 747227279781040130: 2,\n",
       " 709864286936403970: 7,\n",
       " 837288606070890496: 1,\n",
       " 838351781033828352: 1,\n",
       " 835220550209396736: 1,\n",
       " 2307675307: 10,\n",
       " 832031800495071233: 2,\n",
       " 18134210: 3,\n",
       " 422966469: 4,\n",
       " 2490176709: 1,\n",
       " 77755590: 1,\n",
       " 3056121033: 1,\n",
       " 11859152: 1,\n",
       " 840991810851872768: 1,\n",
       " 16946434: 1,\n",
       " 860166602284597248: 1,\n",
       " 768792238381858816: 1,\n",
       " 18994444: 4,\n",
       " 524883214: 1,\n",
       " 472159515: 1,\n",
       " 743839010: 21,\n",
       " 2217251: 1,\n",
       " 3131094309: 1,\n",
       " 3169916217: 7,\n",
       " 9860432: 1,\n",
       " 879646050: 2,\n",
       " 2480993649: 1,\n",
       " 14562685: 4,\n",
       " 837333011800567808: 1,\n",
       " 805766825468276736: 5,\n",
       " 855476279319068672: 1,\n",
       " 831998947631693824: 1,\n",
       " 854925114026098688: 1,\n",
       " 838358449410932736: 1,\n",
       " 837215785785360384: 2,\n",
       " 712551690159915008: 2,\n",
       " 849418185367486464: 1,\n",
       " 860161903158493184: 1,\n",
       " 800414338515251201: 1,\n",
       " 14800270: 4,\n",
       " 2722051478: 3,\n",
       " 45700508: 1,\n",
       " 15021469: 1,\n",
       " 835547776364707841: 1,\n",
       " 838372471086645249: 2,\n",
       " 849347316125401089: 1,\n",
       " 20731304: 1,\n",
       " 65426868: 2,\n",
       " 18068926: 2,\n",
       " 367973830: 1,\n",
       " 4263007693: 8,\n",
       " 2363848151: 2,\n",
       " 14349786: 7,\n",
       " 3367622109: 2,\n",
       " 2796481666: 2,\n",
       " 705421634790932480: 1,\n",
       " 725650403325558784: 11,\n",
       " 303748621: 1,\n",
       " 816653: 6,\n",
       " 3050223119: 1,\n",
       " 320960023: 2,\n",
       " 448034346: 1,\n",
       " 742243485688975360: 1,\n",
       " 858313168002666496: 3,\n",
       " 20960846: 3,\n",
       " 18208354: 1,\n",
       " 2555754084: 1,\n",
       " 393033324: 11,\n",
       " 1969714802: 1,\n",
       " 6411892: 4,\n",
       " 849718149972807680: 1,\n",
       " 860142057859371008: 1,\n",
       " 860160313911463936: 1,\n",
       " 3166017158: 3,\n",
       " 860152862021570561: 1,\n",
       " 859830452630114305: 1,\n",
       " 12842652: 1,\n",
       " 25204382: 1,\n",
       " 380901025: 3,\n",
       " 1018107560: 4,\n",
       " 267310767: 1,\n",
       " 143136451: 4,\n",
       " 10458822: 1,\n",
       " 1969583821: 1,\n",
       " 7640782: 2,\n",
       " 2389014229: 1,\n",
       " 2476562134: 1,\n",
       " 242964183: 2,\n",
       " 350418656: 1,\n",
       " 2485229282: 2,\n",
       " 73783022: 2,\n",
       " 858375048612257792: 2,\n",
       " 849194062213259264: 1,\n",
       " ...}"
      ]
     },
     "execution_count": 46,
     "metadata": {},
     "output_type": "execute_result"
    }
   ],
   "source": [
    "# let's plot the degree distribution inside the LCC\n",
    "degrees = nx.degree(LCC)\n",
    "degrees"
   ]
  },
  {
   "cell_type": "code",
   "execution_count": 47,
   "metadata": {},
   "outputs": [
    {
     "data": {
      "image/png": "[encoded data removed]",
      "text/plain": [
       "<matplotlib.figure.Figure at 0x178c163fd30>"
      ]
     },
     "metadata": {},
     "output_type": "display_data"
    }
   ],
   "source": [
    "degree_array = np.array(list(degrees.values()))\n",
    "hist = plt.hist(degree_array, bins=100)"
   ]
  },
  {
   "cell_type": "code",
   "execution_count": 48,
   "metadata": {},
   "outputs": [
    {
     "data": {
      "image/png": "[encoded data removed]",
      "text/plain": [
       "<matplotlib.figure.Figure at 0x178c1c48da0>"
      ]
     },
     "metadata": {},
     "output_type": "display_data"
    }
   ],
   "source": [
    "# using logarithmic scales\n",
    "hist = plt.hist(degree_array, bins=100, log=True)\n",
    "plt.xscale('log')\n"
   ]
  },
  {
   "cell_type": "code",
   "execution_count": 49,
   "metadata": {},
   "outputs": [
    {
     "data": {
      "text/plain": [
       "<matplotlib.text.Text at 0x178c01c5400>"
      ]
     },
     "execution_count": 49,
     "metadata": {},
     "output_type": "execute_result"
    },
    {
     "data": {
      "image/png": "[encoded data removed]",
      "text/plain": [
       "<matplotlib.figure.Figure at 0x178c019dbe0>"
      ]
     },
     "metadata": {},
     "output_type": "display_data"
    }
   ],
   "source": [
    "# logarithmic scale with logarithmic bins\n",
    "N, bins, patches = plt.hist(degree_array, bins=np.logspace(0,np.log10(degree_array.max()+1), 20), log=True)\n",
    "plt.xscale('log')\n",
    "plt.xlabel('k - degree')\n",
    "plt.ylabel('number of nodes')\n"
   ]
  },
  {
   "cell_type": "code",
   "execution_count": 50,
   "metadata": {},
   "outputs": [
    {
     "name": "stdout",
     "output_type": "stream",
     "text": [
      "1.0\n"
     ]
    },
    {
     "data": {
      "text/plain": [
       "<matplotlib.text.Text at 0x178c2116860>"
      ]
     },
     "execution_count": 50,
     "metadata": {},
     "output_type": "execute_result"
    },
    {
     "data": {
      "image/png": "[encoded data removed]",
      "text/plain": [
       "<matplotlib.figure.Figure at 0x178c204cc88>"
      ]
     },
     "metadata": {},
     "output_type": "display_data"
    }
   ],
   "source": [
    "# Degree probability distribution (P(k))\n",
    "\n",
    "# since we have logarithmic bins, we need to\n",
    "# take into account the fact that the bins \n",
    "# have different lenghts when normalizing\n",
    "bin_lengths = np.diff(bins) # lenght of each bin\n",
    "\n",
    "summ = np.sum(N*bin_lengths)\n",
    "normalized_degree_dist = N/summ\n",
    "\n",
    "# check normalization:\n",
    "print(np.sum(normalized_degree_dist*bin_lengths))\n",
    "\n",
    "hist = plt.bar(bins[:-1], normalized_degree_dist, width=np.diff(bins))\n",
    "plt.xscale('log')\n",
    "plt.yscale('log')\n",
    "plt.xlabel('k (degree)')\n",
    "plt.ylabel('P(k)')"
   ]
  },
  {
   "cell_type": "markdown",
   "metadata": {},
   "source": [
    "### Exercise: do the same for the Graph comprising only retweet, replies, quote and mentions"
   ]
  },
  {
   "cell_type": "markdown",
   "metadata": {},
   "source": [
    "### Percolation of the Giant Component"
   ]
  },
  {
   "cell_type": "code",
   "execution_count": 51,
   "metadata": {
    "collapsed": true
   },
   "outputs": [],
   "source": [
    "import random\n",
    "\n",
    "def getGCsize(G):\n",
    "    \"\"\" returns the size of the largest component of G\"\"\"\n",
    "        \n",
    "    comps = nx.connected_components(G)\n",
    "    return max([len(comp) for comp in comps])\n",
    "    \n"
   ]
  },
  {
   "cell_type": "markdown",
   "metadata": {},
   "source": [
    "#### Random Attack:"
   ]
  },
  {
   "cell_type": "code",
   "execution_count": 52,
   "metadata": {
    "collapsed": true
   },
   "outputs": [],
   "source": [
    "# list that will contain the size of the GC as we remove nodes\n",
    "rnd_attack_GC_sizes = []\n",
    "\n",
    "# we will take into account the undirected version of the graph\n",
    "LCCundirected = nx.Graph(LCC)\n",
    "\n",
    "nodes_list = LCCundirected.nodes()\n",
    "\n",
    "\n",
    "while len(nodes_list) > 1:\n",
    "    # add the size of the  current GC\n",
    "    rnd_attack_GC_sizes.append(getGCsize(LCCundirected))\n",
    "    \n",
    "    # pick a random node\n",
    "    rnd_node = random.choice(nodes_list)\n",
    "    # remove from graph\n",
    "    LCCundirected.remove_node(rnd_node)\n",
    "    # remove from node list\n",
    "    nodes_list.remove(rnd_node)\n"
   ]
  },
  {
   "cell_type": "code",
   "execution_count": 53,
   "metadata": {},
   "outputs": [
    {
     "data": {
      "text/plain": [
       "<matplotlib.text.Text at 0x178c1bb2e10>"
      ]
     },
     "execution_count": 53,
     "metadata": {},
     "output_type": "execute_result"
    },
    {
     "data": {
      "image/png": "[encoded data removed]",
      "text/plain": [
       "<matplotlib.figure.Figure at 0x178c205c588>"
      ]
     },
     "metadata": {},
     "output_type": "display_data"
    }
   ],
   "source": [
    "# convert list to numpy array\n",
    "rnd_attack_GC_sizes = np.array(rnd_attack_GC_sizes)\n",
    "\n",
    "# normalize by the initial size of the GC\n",
    "GC_rnd = rnd_attack_GC_sizes/rnd_attack_GC_sizes[0]\n",
    "\n",
    "# fraction of removed nodes\n",
    "q = np.linspace(0,1,num=GC_rnd.size)\n",
    "\n",
    "plt.plot(q,GC_rnd)\n",
    "plt.xlabel('q')\n",
    "plt.ylabel('GC')\n"
   ]
  },
  {
   "cell_type": "markdown",
   "metadata": {},
   "source": [
    "#### High degree attack:"
   ]
  },
  {
   "cell_type": "code",
   "execution_count": 54,
   "metadata": {
    "collapsed": true
   },
   "outputs": [],
   "source": [
    "# high degree attack\n",
    "LCCundirected = nx.Graph(LCC)\n",
    "\n",
    "# list of pairs (node, degree) sorted according the degree\n",
    "node_deg_dict = nx.degree(LCCundirected)\n",
    "nodes_sorted = sorted(node_deg_dict, key=node_deg_dict.get)\n",
    "\n",
    "# list that will contain the size of the GC as we remove nodes\n",
    "hd_attack_GC_sizes = []\n",
    "\n",
    "while len(nodes_sorted) > 1:\n",
    "    \n",
    "    hd_attack_GC_sizes.append(getGCsize(LCCundirected))\n",
    "    \n",
    "    #remove node according to their degree\n",
    "    node = nodes_sorted.pop()\n",
    "    LCCundirected.remove_node(node)\n",
    "    \n",
    "    \n",
    "\n"
   ]
  },
  {
   "cell_type": "code",
   "execution_count": 55,
   "metadata": {},
   "outputs": [
    {
     "data": {
      "text/plain": [
       "<matplotlib.legend.Legend at 0x178c163fcc0>"
      ]
     },
     "execution_count": 55,
     "metadata": {},
     "output_type": "execute_result"
    },
    {
     "data": {
      "image/png": "[encoded data removed]",
      "text/plain": [
       "<matplotlib.figure.Figure at 0x178c15b4f28>"
      ]
     },
     "metadata": {},
     "output_type": "display_data"
    }
   ],
   "source": [
    "hd_attack_GC_sizes = np.array(hd_attack_GC_sizes)\n",
    "GC_hd = hd_attack_GC_sizes/hd_attack_GC_sizes[0]\n",
    "q = np.linspace(0,1,num=GC_hd.size)\n",
    "\n",
    "plt.plot(q,GC_rnd, label='random attack')\n",
    "plt.plot(q,GC_hd, label='High-Degree attack')\n",
    "plt.xlabel('q')\n",
    "plt.ylabel('GC')\n",
    "plt.legend()\n"
   ]
  },
  {
   "cell_type": "markdown",
   "metadata": {},
   "source": [
    "#### Exercise: implement the High-Degree Adaptative (HDA) attack where at each step the node with the highest degree of the remaining graph is removed."
   ]
  },
  {
   "cell_type": "markdown",
   "metadata": {},
   "source": [
    "### Save the graph to a GraphML file:\n",
    "\n",
    "GraphML is file format based on XML useful for exchanging files between softwares.\n",
    "\n",
    "http://graphml.graphdrawing.org/"
   ]
  },
  {
   "cell_type": "code",
   "execution_count": 57,
   "metadata": {
    "collapsed": true
   },
   "outputs": [],
   "source": [
    "nx.write_graphml(LCC, 'twitter_lcc_AI2.graphml')"
   ]
  },
  {
   "cell_type": "markdown",
   "metadata": {},
   "source": [
    "We can now open the file with [Gephi](https://gephi.org/) to vizualize the graph"
   ]
  },
  {
   "cell_type": "code",
   "execution_count": null,
   "metadata": {
    "collapsed": true
   },
   "outputs": [],
   "source": []
  }
 ],
 "metadata": {
  "anaconda-cloud": {},
  "kernelspec": {
   "display_name": "Python 3",
   "language": "python",
   "name": "python3"
  },
  "language_info": {
   "codemirror_mode": {
    "name": "ipython",
    "version": 3
   },
   "file_extension": ".py",
   "mimetype": "text/x-python",
   "name": "python",
   "nbconvert_exporter": "python",
   "pygments_lexer": "ipython3",
   "version": "3.6.0"
  }
 },
 "nbformat": 4,
 "nbformat_minor": 2
}
